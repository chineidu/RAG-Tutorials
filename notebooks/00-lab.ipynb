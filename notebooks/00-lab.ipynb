{
 "cells": [
  {
   "cell_type": "code",
   "execution_count": 2,
   "id": "747e8adb",
   "metadata": {},
   "outputs": [],
   "source": [
    "import json\n",
    "import logging\n",
    "import re\n",
    "import warnings\n",
    "from pathlib import Path\n",
    "from pprint import pprint\n",
    "from typing import Annotated, Any, Generator, Literal, Type, TypeVar\n",
    "\n",
    "# Standard imports\n",
    "import numpy as np\n",
    "import numpy.typing as npt\n",
    "import pandas as pd\n",
    "import polars as pl\n",
    "\n",
    "# Visualization\n",
    "# import matplotlib.pyplot as plt\n",
    "\n",
    "# NumPy settings\n",
    "np.set_printoptions(precision=4)\n",
    "\n",
    "# Pandas settings\n",
    "pd.options.display.max_rows = 1_000\n",
    "pd.options.display.max_columns = 1_000\n",
    "pd.options.display.max_colwidth = 600\n",
    "\n",
    "# Polars settings\n",
    "pl.Config.set_fmt_str_lengths(1_000)\n",
    "pl.Config.set_tbl_cols(n=1_000)\n",
    "pl.Config.set_tbl_rows(n=200)\n",
    "\n",
    "warnings.filterwarnings(\"ignore\")\n",
    "\n",
    "# Black code formatter (Optional)\n",
    "%load_ext lab_black\n",
    "\n",
    "# auto reload imports\n",
    "%load_ext autoreload\n",
    "%autoreload 2"
   ]
  },
  {
   "cell_type": "code",
   "execution_count": 4,
   "id": "67646812",
   "metadata": {},
   "outputs": [],
   "source": [
    "import os\n",
    "\n",
    "from rich.console import Console\n",
    "from rich.theme import Theme\n",
    "\n",
    "custom_theme = Theme(\n",
    "    {\n",
    "        \"white\": \"#FFFFFF\",  # Bright white\n",
    "        \"info\": \"#00FF00\",  # Bright green\n",
    "        \"warning\": \"#FFD700\",  # Bright gold\n",
    "        \"error\": \"#FF1493\",  # Deep pink\n",
    "        \"success\": \"#00FFFF\",  # Cyan\n",
    "        \"highlight\": \"#FF4500\",  # Orange-red\n",
    "    }\n",
    ")\n",
    "console = Console(theme=custom_theme)\n",
    "\n",
    "\n",
    "def create_path(path: str | Path) -> None:\n",
    "    \"\"\"\n",
    "    Create parent directories for the given path if they don't exist.\n",
    "\n",
    "    Parameters\n",
    "    ----------\n",
    "    path : str | Path\n",
    "        The file path for which to create parent directories.\n",
    "    \"\"\"\n",
    "    # Convert to Path object if it's a string\n",
    "    path_obj: Path = Path(path) if isinstance(path, str) else path\n",
    "\n",
    "    # Get the parent directory and create it if it doesn't exist\n",
    "    path_obj.parent.mkdir(parents=True, exist_ok=True)\n",
    "\n",
    "\n",
    "def go_up_from_current_directory(*, go_up: int = 1) -> None:\n",
    "    \"\"\"This is used to up a number of directories.\n",
    "\n",
    "    Params:\n",
    "    -------\n",
    "    go_up: int, default=1\n",
    "        This indicates the number of times to go back up from the current directory.\n",
    "\n",
    "    Returns:\n",
    "    --------\n",
    "    None\n",
    "    \"\"\"\n",
    "    import os\n",
    "    import sys\n",
    "\n",
    "    CONST: str = \"../\"\n",
    "    NUM: str = CONST * go_up\n",
    "\n",
    "    # Goto the previous directory\n",
    "    prev_directory = os.path.join(os.path.dirname(__name__), NUM)\n",
    "    # Get the 'absolute path' of the previous directory\n",
    "    abs_path_prev_directory = os.path.abspath(prev_directory)\n",
    "\n",
    "    # Add the path to the System paths\n",
    "    sys.path.insert(0, abs_path_prev_directory)\n",
    "    print(abs_path_prev_directory)"
   ]
  },
  {
   "cell_type": "markdown",
   "id": "6718d532",
   "metadata": {},
   "source": [
    "## Extract"
   ]
  },
  {
   "cell_type": "code",
   "execution_count": 7,
   "id": "ad4368c6",
   "metadata": {},
   "outputs": [
    {
     "data": {
      "text/plain": [
       "[Document(id_='fe9892e1-49cd-4b90-a29f-f4bc4387e3d7', embedding=None, metadata={'page_label': '1', 'file_name': 'Using tools _ uv.pdf', 'file_path': '/Users/neidu/Desktop/Projects/Personal/RAG-Tutorials/notebooks/../data/Using tools _ uv.pdf', 'file_type': 'application/pdf', 'file_size': 393846, 'creation_date': '2025-07-25', 'last_modified_date': '2025-07-25'}, excluded_embed_metadata_keys=['file_name', 'file_type', 'file_size', 'creation_date', 'last_modified_date', 'last_accessed_date'], excluded_llm_metadata_keys=['file_name', 'file_type', 'file_size', 'creation_date', 'last_modified_date', 'last_accessed_date'], relationships={}, metadata_template='{key}: {value}', metadata_separator='\\n', text_resource=MediaResource(embeddings=None, data=None, text='Guides\\nUsing tools\\nMany Python packages provide applications that can be used as tools. uv has specialized\\nsupport for easily invoking and installing tools.\\nRunning tools\\nThe uvx command invokes a tool without installing it.\\nFor example, to run ruff:\\nThis is exactly equivalent to:\\nuvx is provided as an alias for convenience.\\nArguments can be provided after the tool name:\\nTools are installed into temporary, isolated environments when using uvx.\\n$ uvxruff\\nNote\\n$ uvtoolrunruff\\n$ uvxpycowsayhellofromuv\\n  -------------\\n< hello from uv >\\n  -------------\\n   \\\\   ^__^\\n    \\\\  (oo)\\\\_______\\n       (__)\\\\       )\\\\/\\\\\\n           ||----w |\\n           ||     ||\\n25/07/2025, 09:29 Using tools | uv\\nhttps://docs.astral.sh/uv/guides/tools/ 1/6', path=None, url=None, mimetype=None), image_resource=None, audio_resource=None, video_resource=None, text_template='{metadata_str}\\n\\n{content}'),\n",
       " Document(id_='d644dd09-d6c5-453f-9c16-079840eba83e', embedding=None, metadata={'page_label': '2', 'file_name': 'Using tools _ uv.pdf', 'file_path': '/Users/neidu/Desktop/Projects/Personal/RAG-Tutorials/notebooks/../data/Using tools _ uv.pdf', 'file_type': 'application/pdf', 'file_size': 393846, 'creation_date': '2025-07-25', 'last_modified_date': '2025-07-25'}, excluded_embed_metadata_keys=['file_name', 'file_type', 'file_size', 'creation_date', 'last_modified_date', 'last_accessed_date'], excluded_llm_metadata_keys=['file_name', 'file_type', 'file_size', 'creation_date', 'last_modified_date', 'last_accessed_date'], relationships={}, metadata_template='{key}: {value}', metadata_separator='\\n', text_resource=MediaResource(embeddings=None, data=None, text=\"If you are running a tool in a project and the tool requires that your project is installed, e.g., when\\nusing pytest or mypy, you'll want to use uv run instead of uvx. Otherwise, the tool will be run\\nin a virtual environment that is isolated from your project.\\nIf your project has a flat structure, e.g., instead of using a src directory for modules, the project\\nitself does not need to be installed and uvx is fine. In this case, using uv run is only beneficial\\nif you want to pin the version of the tool in the project's dependencies.\\nCommands with different package names\\nWhen uvx ruff is invoked, uv installs the ruff package which provides the ruff command.\\nHowever, sometimes the package and command names differ.\\nThe --from option can be used to invoke a command from a specific package, e.g., http\\nwhich is provided by httpie:\\nRequesting specific versions\\nTo run a tool at a specific version, use command@<version>:\\nTo run a tool at the latest version, use command@latest:\\nThe --from option can also be used to specify package versions, as above:\\nOr, to constrain to a range of versions:\\nNote the @ syntax cannot be used for anything other than an exact version.\\nRequesting extras\\nNote\\n$ uvx--fromhttpiehttp\\n$ uvxruff@0.3.0check\\n$ uvxruff@latestcheck\\n$ uvx--from'ruff==0.3.0'ruffcheck\\n$ uvx--from'ruff>0.2.0,<0.3.0'ruffcheck\\n25/07/2025, 09:29 Using tools | uv\\nhttps://docs.astral.sh/uv/guides/tools/ 2/6\", path=None, url=None, mimetype=None), image_resource=None, audio_resource=None, video_resource=None, text_template='{metadata_str}\\n\\n{content}'),\n",
       " Document(id_='711f5aa2-b598-4e66-a9a9-f8bc0f3e413e', embedding=None, metadata={'page_label': '3', 'file_name': 'Using tools _ uv.pdf', 'file_path': '/Users/neidu/Desktop/Projects/Personal/RAG-Tutorials/notebooks/../data/Using tools _ uv.pdf', 'file_type': 'application/pdf', 'file_size': 393846, 'creation_date': '2025-07-25', 'last_modified_date': '2025-07-25'}, excluded_embed_metadata_keys=['file_name', 'file_type', 'file_size', 'creation_date', 'last_modified_date', 'last_accessed_date'], excluded_llm_metadata_keys=['file_name', 'file_type', 'file_size', 'creation_date', 'last_modified_date', 'last_accessed_date'], relationships={}, metadata_template='{key}: {value}', metadata_separator='\\n', text_resource=MediaResource(embeddings=None, data=None, text=\"The --from option can be used to run a tool with extras:\\nThis can also be combined with version selection:\\nRequesting different sources\\nThe --from option can also be used to install from alternative sources.\\nFor example, to pull from git:\\nYou can also pull the latest commit from a specific named branch:\\nOr pull a specific tag:\\nOr even a specific commit:\\nCommands with plugins\\nAdditional dependencies can be included, e.g., to include mkdocs-material when running\\nmkdocs:\\nInstalling tools\\nIf a tool is used often, it is useful to install it to a persistent environment and add it to the PATH\\ninstead of invoking uvx repeatedly.\\n$ uvx--from'mypy[faster-cache,reports]'mypy--xml-reportmypy_report\\n$ uvx--from'mypy[faster-cache,reports]==1.13.0'mypy--xml-report\\nmypy_report\\n$ uvx--fromgit+https://github.com/httpie/clihttpie\\n$ uvx--fromgit+https://github.com/httpie/cli@masterhttpie\\n$ uvx--fromgit+https://github.com/httpie/cli@3.2.4httpie\\n$ uvx--fromgit+https://github.com/httpie/cli@2843b87httpie\\n$ uvx--withmkdocs-materialmkdocs--help\\n25/07/2025, 09:29 Using tools | uv\\nhttps://docs.astral.sh/uv/guides/tools/ 3/6\", path=None, url=None, mimetype=None), image_resource=None, audio_resource=None, video_resource=None, text_template='{metadata_str}\\n\\n{content}'),\n",
       " Document(id_='8e51f8ee-27e3-4b52-b2a9-3322a32128e4', embedding=None, metadata={'page_label': '4', 'file_name': 'Using tools _ uv.pdf', 'file_path': '/Users/neidu/Desktop/Projects/Personal/RAG-Tutorials/notebooks/../data/Using tools _ uv.pdf', 'file_type': 'application/pdf', 'file_size': 393846, 'creation_date': '2025-07-25', 'last_modified_date': '2025-07-25'}, excluded_embed_metadata_keys=['file_name', 'file_type', 'file_size', 'creation_date', 'last_modified_date', 'last_accessed_date'], excluded_llm_metadata_keys=['file_name', 'file_type', 'file_size', 'creation_date', 'last_modified_date', 'last_accessed_date'], relationships={}, metadata_template='{key}: {value}', metadata_separator='\\n', text_resource=MediaResource(embeddings=None, data=None, text='uvx is a convenient alias for uv tool run. All of the other commands for interacting with tools\\nrequire the full uv tool prefix.\\nTo install ruff:\\nWhen a tool is installed, its executables are placed in a bin directory in the PATH which allows\\nthe tool to be run without uv. If it\\'s not on the PATH, a warning will be displayed and uv tool\\nupdate-shell can be used to add it to the PATH.\\nAfter installing ruff, it should be available:\\nUnlike uv pip install, installing a tool does not make its modules available in the current\\nenvironment. For example, the following command will fail:\\nThis isolation is important for reducing interactions and conflicts between dependencies of\\ntools, scripts, and projects.\\nUnlike uvx, uv tool install operates on a package and will install all executables provided\\nby the tool.\\nFor example, the following will install the http, https, and httpie executables:\\nAdditionally, package versions can be included without --from:\\nAnd, similarly, for package sources:\\nAs with uvx, installations can include additional packages:\\nTip\\n$ uvtoolinstallruff\\n$ ruff--version\\n$ python-c\"import ruff\"\\n$ uvtoolinstallhttpie\\n$ uvtoolinstall\\'httpie>0.1.0\\'\\n$ uvtoolinstallgit+https://github.com/httpie/cli\\n$ uvtoolinstallmkdocs--withmkdocs-material\\n25/07/2025, 09:29 Using tools | uv\\nhttps://docs.astral.sh/uv/guides/tools/ 4/6', path=None, url=None, mimetype=None), image_resource=None, audio_resource=None, video_resource=None, text_template='{metadata_str}\\n\\n{content}'),\n",
       " Document(id_='ff36da94-b9cf-4178-b8e5-650496cecf5b', embedding=None, metadata={'page_label': '5', 'file_name': 'Using tools _ uv.pdf', 'file_path': '/Users/neidu/Desktop/Projects/Personal/RAG-Tutorials/notebooks/../data/Using tools _ uv.pdf', 'file_type': 'application/pdf', 'file_size': 393846, 'creation_date': '2025-07-25', 'last_modified_date': '2025-07-25'}, excluded_embed_metadata_keys=['file_name', 'file_type', 'file_size', 'creation_date', 'last_modified_date', 'last_accessed_date'], excluded_llm_metadata_keys=['file_name', 'file_type', 'file_size', 'creation_date', 'last_modified_date', 'last_accessed_date'], relationships={}, metadata_template='{key}: {value}', metadata_separator='\\n', text_resource=MediaResource(embeddings=None, data=None, text='Upgrading tools\\nTo upgrade a tool, use uv tool upgrade:\\nTool upgrades will respect the version constraints provided when installing the tool. For\\nexample, uv tool install ruff >=0.3,<0.4 followed by uv tool upgrade ruff will\\nupgrade Ruff to the latest version in the range >=0.3,<0.4.\\nTo instead replace the version constraints, re-install the tool with uv tool install:\\nTo instead upgrade all tools:\\nRequesting Python versions\\nBy default, uv will use your default Python interpreter (the first it finds) when running, installing,\\nor upgrading tools. You can specify the Python interpreter to use with the --python option.\\nFor example, to request a specific Python version when running a tool:\\nOr, when installing a tool:\\nOr, when upgrading a tool:\\nFor more details on requesting Python versions, see the Python version concept page.\\nLegacy Windows Scripts\\nTools also support running legacy setuptools scripts. These scripts are available via $(uv\\ntool dir)\\\\<tool-name>\\\\Scripts when installed.\\nCurrently only legacy scripts with the .ps1, .cmd, and .bat extensions are supported.\\n$ uvtoolupgraderuff\\n$ uvtoolinstallruff>=0.4\\n$ uvtoolupgrade--all\\n$ uvx--python3.10ruff\\n$ uvtoolinstall--python3.10ruff\\n$ uvtoolupgrade--python3.10ruff\\n25/07/2025, 09:29 Using tools | uv\\nhttps://docs.astral.sh/uv/guides/tools/ 5/6', path=None, url=None, mimetype=None), image_resource=None, audio_resource=None, video_resource=None, text_template='{metadata_str}\\n\\n{content}'),\n",
       " Document(id_='bb36ad62-efd2-44ad-99fa-b19dac4f6910', embedding=None, metadata={'page_label': '6', 'file_name': 'Using tools _ uv.pdf', 'file_path': '/Users/neidu/Desktop/Projects/Personal/RAG-Tutorials/notebooks/../data/Using tools _ uv.pdf', 'file_type': 'application/pdf', 'file_size': 393846, 'creation_date': '2025-07-25', 'last_modified_date': '2025-07-25'}, excluded_embed_metadata_keys=['file_name', 'file_type', 'file_size', 'creation_date', 'last_modified_date', 'last_accessed_date'], excluded_llm_metadata_keys=['file_name', 'file_type', 'file_size', 'creation_date', 'last_modified_date', 'last_accessed_date'], relationships={}, metadata_template='{key}: {value}', metadata_separator='\\n', text_resource=MediaResource(embeddings=None, data=None, text=\"For example, below is an example running a Command Prompt script.\\nIn addition, you don't need to specify the extension. uvx will automatically look for files ending\\nin .ps1, .cmd, and .bat in that order of execution on your behalf.\\nNext steps\\nTo learn more about managing tools with uv, see the Tools concept page and the command\\nreference.\\nOr, read on to learn how to work on projects.\\n$ uvtoolrun--fromnuitka==2.6.7nuitka.cmd--version\\n$ uvtoolrun--fromnuitka==2.6.7nuitka--version\\n25/07/2025, 09:29 Using tools | uv\\nhttps://docs.astral.sh/uv/guides/tools/ 6/6\", path=None, url=None, mimetype=None), image_resource=None, audio_resource=None, video_resource=None, text_template='{metadata_str}\\n\\n{content}'),\n",
       " Document(id_='c5345856-84aa-4563-a360-12cb5e429766', embedding=None, metadata={'page_label': '1', 'file_name': 'Working on projects _ uv.pdf', 'file_path': '/Users/neidu/Desktop/Projects/Personal/RAG-Tutorials/notebooks/../data/Working on projects _ uv.pdf', 'file_type': 'application/pdf', 'file_size': 420295, 'creation_date': '2025-07-25', 'last_modified_date': '2025-07-25'}, excluded_embed_metadata_keys=['file_name', 'file_type', 'file_size', 'creation_date', 'last_modified_date', 'last_accessed_date'], excluded_llm_metadata_keys=['file_name', 'file_type', 'file_size', 'creation_date', 'last_modified_date', 'last_accessed_date'], relationships={}, metadata_template='{key}: {value}', metadata_separator='\\n', text_resource=MediaResource(embeddings=None, data=None, text='Guides\\nWorking on projects\\nuv supports managing Python projects, which define their dependencies in a pyproject.toml\\nfile.\\nCreating a new project\\nYou can create a new Python project using the uv init command:\\nAlternatively, you can initialize a project in the working directory:\\nuv will create the following files:\\nThe main.py file contains a simple \"Hello world\" program. Try it out with uv run:\\nProject structure\\nA project consists of a few important parts that work together and allow uv to manage your\\nproject. In addition to the files created by uv init, uv will create a virtual environment and\\nuv.lock file in the root of your project the first time you run a project command, i.e., uv run,\\nuv sync, or uv lock.\\nA complete listing would look like:\\n$ uvinithello-world\\n$ cdhello-world\\n$ mkdirhello-world\\n$ cdhello-world\\n$ uvinit\\n├──  .gitignore\\n├──  .python-version\\n├──  README.md\\n├──  main.py\\n└──  pyproject.toml\\n$ uvrunmain.py\\nHello from hello-world!\\n25/07/2025, 09:30 Working on projects | uv\\nhttps://docs.astral.sh/uv/guides/projects/#running-commands 1/6', path=None, url=None, mimetype=None), image_resource=None, audio_resource=None, video_resource=None, text_template='{metadata_str}\\n\\n{content}'),\n",
       " Document(id_='29630c51-4d4c-4aa9-a060-05f4ac0dbd3f', embedding=None, metadata={'page_label': '2', 'file_name': 'Working on projects _ uv.pdf', 'file_path': '/Users/neidu/Desktop/Projects/Personal/RAG-Tutorials/notebooks/../data/Working on projects _ uv.pdf', 'file_type': 'application/pdf', 'file_size': 420295, 'creation_date': '2025-07-25', 'last_modified_date': '2025-07-25'}, excluded_embed_metadata_keys=['file_name', 'file_type', 'file_size', 'creation_date', 'last_modified_date', 'last_accessed_date'], excluded_llm_metadata_keys=['file_name', 'file_type', 'file_size', 'creation_date', 'last_modified_date', 'last_accessed_date'], relationships={}, metadata_template='{key}: {value}', metadata_separator='\\n', text_resource=MediaResource(embeddings=None, data=None, text='pyproject.toml\\nThe pyproject.toml contains metadata about your project:\\nYou\\'ll use this file to specify dependencies, as well as details about the project such as its\\ndescription or license. You can edit this file manually, or use commands like uv add and uv\\nremove to manage your project from the terminal.\\nSee the official pyproject.toml guide for more details on getting started with the\\npyproject.toml format.\\nYou\\'ll also use this file to specify uv configuration options in a [tool.uv] section.\\n.python-version\\nThe .python-version file contains the project\\'s default Python version. This file tells uv which\\nPython version to use when creating the project\\'s virtual environment.\\n.venv\\nThe .venv folder contains your project\\'s virtual environment, a Python environment that is\\nisolated from the rest of your system. This is where uv will install your project\\'s dependencies.\\nSee the project environment documentation for more details.\\n.\\n├──  .venv\\n│ \\xa0\\xa0 ├──  bin\\n│ \\xa0\\xa0 ├──  lib\\n│ \\xa0\\xa0 └──  pyvenv.cfg\\n├──  .python-version\\n├──  README.md\\n├──  main.py\\n├──  pyproject.toml\\n└──  uv.lock\\npyproject.toml\\n[project]\\nname=\"hello-world\"\\nversion=\"0.1.0\"\\ndescription=\"Add your description here\"\\nreadme=\"README.md\"\\ndependencies=[]\\nTip\\n25/07/2025, 09:30 Working on projects | uv\\nhttps://docs.astral.sh/uv/guides/projects/#running-commands 2/6', path=None, url=None, mimetype=None), image_resource=None, audio_resource=None, video_resource=None, text_template='{metadata_str}\\n\\n{content}'),\n",
       " Document(id_='4ef9eaa3-a6f5-46fb-ada3-dc900ead87a2', embedding=None, metadata={'page_label': '3', 'file_name': 'Working on projects _ uv.pdf', 'file_path': '/Users/neidu/Desktop/Projects/Personal/RAG-Tutorials/notebooks/../data/Working on projects _ uv.pdf', 'file_type': 'application/pdf', 'file_size': 420295, 'creation_date': '2025-07-25', 'last_modified_date': '2025-07-25'}, excluded_embed_metadata_keys=['file_name', 'file_type', 'file_size', 'creation_date', 'last_modified_date', 'last_accessed_date'], excluded_llm_metadata_keys=['file_name', 'file_type', 'file_size', 'creation_date', 'last_modified_date', 'last_accessed_date'], relationships={}, metadata_template='{key}: {value}', metadata_separator='\\n', text_resource=MediaResource(embeddings=None, data=None, text=\"uv.lock\\nuv.lock is a cross-platform lockfile that contains exact information about your project's\\ndependencies. Unlike the pyproject.toml which is used to specify the broad requirements of\\nyour project, the lockfile contains the exact resolved versions that are installed in the project\\nenvironment. This file should be checked into version control, allowing for consistent and\\nreproducible installations across machines.\\nuv.lock is a human-readable TOML file but is managed by uv and should not be edited\\nmanually.\\nSee the lockfile documentation for more details.\\nManaging dependencies\\nYou can add dependencies to your pyproject.toml with the uv add command. This will also\\nupdate the lockfile and project environment:\\nYou can also specify version constraints or alternative sources:\\nIf you're migrating from a requirements.txt file, you can use uv add with the -r flag to add\\nall dependencies from the file:\\nTo remove a package, you can use uv remove:\\nTo upgrade a package, run uv lock with the --upgrade-package flag:\\nThe --upgrade-package flag will attempt to update the specified package to the latest\\ncompatible version, while keeping the rest of the lockfile intact.\\n$ uvaddrequests\\n$ # Specify a version constraint\\n$ uvadd'requests==2.31.0'\\n$ # Add a git dependency\\n$ uvaddgit+https://github.com/psf/requests\\n$ # Add all dependencies from `requirements.txt`.\\n$ uvadd-rrequirements.txt-cconstraints.txt\\n$ uvremoverequests\\n$ uvlock--upgrade-packagerequests\\n25/07/2025, 09:30 Working on projects | uv\\nhttps://docs.astral.sh/uv/guides/projects/#running-commands 3/6\", path=None, url=None, mimetype=None), image_resource=None, audio_resource=None, video_resource=None, text_template='{metadata_str}\\n\\n{content}'),\n",
       " Document(id_='fe120049-000e-44b7-af7f-8112a76b64fc', embedding=None, metadata={'page_label': '4', 'file_name': 'Working on projects _ uv.pdf', 'file_path': '/Users/neidu/Desktop/Projects/Personal/RAG-Tutorials/notebooks/../data/Working on projects _ uv.pdf', 'file_type': 'application/pdf', 'file_size': 420295, 'creation_date': '2025-07-25', 'last_modified_date': '2025-07-25'}, excluded_embed_metadata_keys=['file_name', 'file_type', 'file_size', 'creation_date', 'last_modified_date', 'last_accessed_date'], excluded_llm_metadata_keys=['file_name', 'file_type', 'file_size', 'creation_date', 'last_modified_date', 'last_accessed_date'], relationships={}, metadata_template='{key}: {value}', metadata_separator='\\n', text_resource=MediaResource(embeddings=None, data=None, text='See the documentation on managing dependencies for more details.\\nManaging version\\nThe uv version command can be used to read your package\\'s version.\\nTo get the version of your package, run uv version:\\nTo get the version without the package name, use the --short option:\\nTo get version information in a JSON format, use the --output-format json option:\\nSee the publishing guide for details on updating your package version.\\nRunning commands\\nuv run can be used to run arbitrary scripts or commands in your project environment.\\nPrior to every uv run invocation, uv will verify that the lockfile is up-to-date with the\\npyproject.toml, and that the environment is up-to-date with the lockfile, keeping your project\\nin-sync without the need for manual intervention. uv run guarantees that your command is\\nrun in a consistent, locked environment.\\nFor example, to use flask:\\nOr, to run a script:\\n$ uvversion\\nhello-world 0.7.0\\n$ uvversion--short\\n0.7.0\\n$ uvversion--output-formatjson\\n{\\n    \"package_name\": \"hello-world\",\\n    \"version\": \"0.7.0\",\\n    \"commit_info\": null\\n}\\n$ uvaddflask\\n$ uvrun--flaskrun-p3000\\nexample.py\\n25/07/2025, 09:30 Working on projects | uv\\nhttps://docs.astral.sh/uv/guides/projects/#running-commands 4/6', path=None, url=None, mimetype=None), image_resource=None, audio_resource=None, video_resource=None, text_template='{metadata_str}\\n\\n{content}'),\n",
       " Document(id_='6d36044d-56c8-4af1-b936-80401ff17155', embedding=None, metadata={'page_label': '5', 'file_name': 'Working on projects _ uv.pdf', 'file_path': '/Users/neidu/Desktop/Projects/Personal/RAG-Tutorials/notebooks/../data/Working on projects _ uv.pdf', 'file_type': 'application/pdf', 'file_size': 420295, 'creation_date': '2025-07-25', 'last_modified_date': '2025-07-25'}, excluded_embed_metadata_keys=['file_name', 'file_type', 'file_size', 'creation_date', 'last_modified_date', 'last_accessed_date'], excluded_llm_metadata_keys=['file_name', 'file_type', 'file_size', 'creation_date', 'last_modified_date', 'last_accessed_date'], relationships={}, metadata_template='{key}: {value}', metadata_separator='\\n', text_resource=MediaResource(embeddings=None, data=None, text='Alternatively, you can use uv sync to manually update the environment then activate it before\\nexecuting a command:\\nThe virtual environment must be active to run scripts and commands in the project without uv\\nrun. Virtual environment activation differs per shell and platform.\\nSee the documentation on running commands and scripts in projects for more details.\\nBuilding distributions\\nuv build can be used to build source distributions and binary distributions (wheel) for your\\nproject.\\nBy default, uv build will build the project in the current directory, and place the built artifacts\\nin a dist/ subdirectory:\\nSee the documentation on building projects for more details.\\n# Require a project dependency\\nimportflask\\nprint(\"hello world\")\\n$ uvrunexample.py\\nmacOS and Linux\\nWindows\\n$ uvsync\\n$ source.venv/bin/activate\\n$ flaskrun-p3000\\n$ pythonexample.py\\nPS> uvsync\\nPS> .venv\\\\Scripts\\\\activate\\nPS> flaskrun-p3000\\nPS> pythonexample.py\\nNote\\n$ uvbuild\\n$ lsdist/\\nhello-world-0.1.0-py3-none-any.whl\\nhello-world-0.1.0.tar.gz\\n25/07/2025, 09:30 Working on projects | uv\\nhttps://docs.astral.sh/uv/guides/projects/#running-commands 5/6', path=None, url=None, mimetype=None), image_resource=None, audio_resource=None, video_resource=None, text_template='{metadata_str}\\n\\n{content}'),\n",
       " Document(id_='2bb2c704-1d2b-4fa5-90c1-4933536d554a', embedding=None, metadata={'page_label': '6', 'file_name': 'Working on projects _ uv.pdf', 'file_path': '/Users/neidu/Desktop/Projects/Personal/RAG-Tutorials/notebooks/../data/Working on projects _ uv.pdf', 'file_type': 'application/pdf', 'file_size': 420295, 'creation_date': '2025-07-25', 'last_modified_date': '2025-07-25'}, excluded_embed_metadata_keys=['file_name', 'file_type', 'file_size', 'creation_date', 'last_modified_date', 'last_accessed_date'], excluded_llm_metadata_keys=['file_name', 'file_type', 'file_size', 'creation_date', 'last_modified_date', 'last_accessed_date'], relationships={}, metadata_template='{key}: {value}', metadata_separator='\\n', text_resource=MediaResource(embeddings=None, data=None, text='Next steps\\nTo learn more about working on projects with uv, see the projects concept page and the\\ncommand reference.\\nOr, read on to learn how to build and publish your project to a package index.\\n25/07/2025, 09:30 Working on projects | uv\\nhttps://docs.astral.sh/uv/guides/projects/#running-commands 6/6', path=None, url=None, mimetype=None), image_resource=None, audio_resource=None, video_resource=None, text_template='{metadata_str}\\n\\n{content}')]"
      ]
     },
     "execution_count": 7,
     "metadata": {},
     "output_type": "execute_result"
    }
   ],
   "source": [
    "from llama_index.core import SimpleDirectoryReader\n",
    "\n",
    "fp: str = \"../data\"\n",
    "docs = SimpleDirectoryReader(input_dir=fp).load_data()\n",
    "\n",
    "# console.print(docs)\n",
    "docs"
   ]
  },
  {
   "cell_type": "code",
   "execution_count": 8,
   "metadata": {},
   "outputs": [
    {
     "data": {
      "text/plain": [
       "12"
      ]
     },
     "execution_count": 8,
     "metadata": {},
     "output_type": "execute_result"
    }
   ],
   "source": [
    "len(docs)"
   ]
  },
  {
   "cell_type": "markdown",
   "id": "e8ba56a9",
   "metadata": {},
   "source": [
    "## Transform"
   ]
  },
  {
   "cell_type": "code",
   "execution_count": null,
   "id": "22544eba",
   "metadata": {},
   "outputs": [],
   "source": []
  },
  {
   "cell_type": "code",
   "execution_count": null,
   "id": "aea8cd55",
   "metadata": {},
   "outputs": [],
   "source": []
  },
  {
   "cell_type": "code",
   "execution_count": null,
   "id": "8e937ad7",
   "metadata": {},
   "outputs": [],
   "source": []
  },
  {
   "cell_type": "code",
   "execution_count": null,
   "id": "5128b1b9",
   "metadata": {},
   "outputs": [],
   "source": []
  },
  {
   "cell_type": "code",
   "execution_count": null,
   "metadata": {},
   "outputs": [],
   "source": []
  },
  {
   "cell_type": "code",
   "execution_count": null,
   "id": "df1f2ebc",
   "metadata": {},
   "outputs": [],
   "source": []
  },
  {
   "cell_type": "code",
   "execution_count": null,
   "id": "c452cae3",
   "metadata": {},
   "outputs": [],
   "source": []
  },
  {
   "cell_type": "code",
   "execution_count": null,
   "id": "09b09963",
   "metadata": {},
   "outputs": [],
   "source": []
  },
  {
   "cell_type": "code",
   "execution_count": null,
   "id": "e1397e49",
   "metadata": {},
   "outputs": [],
   "source": []
  },
  {
   "cell_type": "code",
   "execution_count": null,
   "id": "3f10c30e",
   "metadata": {},
   "outputs": [],
   "source": []
  },
  {
   "cell_type": "code",
   "execution_count": null,
   "id": "e8d7e70d",
   "metadata": {},
   "outputs": [],
   "source": []
  }
 ],
 "metadata": {
  "kernelspec": {
   "display_name": "RAG-Tutorials",
   "language": "python",
   "name": "python3"
  },
  "language_info": {
   "codemirror_mode": {
    "name": "ipython",
    "version": 3
   },
   "file_extension": ".py",
   "mimetype": "text/x-python",
   "name": "python",
   "nbconvert_exporter": "python",
   "pygments_lexer": "ipython3",
   "version": "3.12.7"
  }
 },
 "nbformat": 4,
 "nbformat_minor": 5
}
